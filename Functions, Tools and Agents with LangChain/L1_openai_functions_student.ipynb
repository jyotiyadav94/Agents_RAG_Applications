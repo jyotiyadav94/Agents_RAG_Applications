{
  "cells": [
    {
      "cell_type": "markdown",
      "id": "a3df44d6-62d0-4324-8052-419503a6b040",
      "metadata": {
        "id": "a3df44d6-62d0-4324-8052-419503a6b040"
      },
      "source": [
        "# OpenAI Function Calling\n"
      ]
    },
    {
      "cell_type": "markdown",
      "id": "59b038f2-759a-42e9-ab02-eca264b93ee5",
      "metadata": {
        "id": "59b038f2-759a-42e9-ab02-eca264b93ee5"
      },
      "source": [
        "**Notes**:\n",
        "- LLM's don't always produce the same results. The results you see in this notebook may differ from the results you see in the video.\n",
        "- Notebooks results are temporary. Download the notebooks to your local machine if you wish to save your results."
      ]
    },
    {
      "cell_type": "code",
      "source": [
        "!pip install openai==0.28\n",
        "!pip install python-dotenv"
      ],
      "metadata": {
        "colab": {
          "base_uri": "https://localhost:8080/"
        },
        "id": "RIPjKXjI_L6c",
        "outputId": "d0959a03-940c-4fe1-c68d-07abaa3009d4"
      },
      "id": "RIPjKXjI_L6c",
      "execution_count": 1,
      "outputs": [
        {
          "output_type": "stream",
          "name": "stdout",
          "text": [
            "Requirement already satisfied: openai==0.28 in /usr/local/lib/python3.10/dist-packages (0.28.0)\n",
            "Requirement already satisfied: requests>=2.20 in /usr/local/lib/python3.10/dist-packages (from openai==0.28) (2.31.0)\n",
            "Requirement already satisfied: tqdm in /usr/local/lib/python3.10/dist-packages (from openai==0.28) (4.66.2)\n",
            "Requirement already satisfied: aiohttp in /usr/local/lib/python3.10/dist-packages (from openai==0.28) (3.9.3)\n",
            "Requirement already satisfied: charset-normalizer<4,>=2 in /usr/local/lib/python3.10/dist-packages (from requests>=2.20->openai==0.28) (3.3.2)\n",
            "Requirement already satisfied: idna<4,>=2.5 in /usr/local/lib/python3.10/dist-packages (from requests>=2.20->openai==0.28) (3.6)\n",
            "Requirement already satisfied: urllib3<3,>=1.21.1 in /usr/local/lib/python3.10/dist-packages (from requests>=2.20->openai==0.28) (2.0.7)\n",
            "Requirement already satisfied: certifi>=2017.4.17 in /usr/local/lib/python3.10/dist-packages (from requests>=2.20->openai==0.28) (2024.2.2)\n",
            "Requirement already satisfied: aiosignal>=1.1.2 in /usr/local/lib/python3.10/dist-packages (from aiohttp->openai==0.28) (1.3.1)\n",
            "Requirement already satisfied: attrs>=17.3.0 in /usr/local/lib/python3.10/dist-packages (from aiohttp->openai==0.28) (23.2.0)\n",
            "Requirement already satisfied: frozenlist>=1.1.1 in /usr/local/lib/python3.10/dist-packages (from aiohttp->openai==0.28) (1.4.1)\n",
            "Requirement already satisfied: multidict<7.0,>=4.5 in /usr/local/lib/python3.10/dist-packages (from aiohttp->openai==0.28) (6.0.5)\n",
            "Requirement already satisfied: yarl<2.0,>=1.0 in /usr/local/lib/python3.10/dist-packages (from aiohttp->openai==0.28) (1.9.4)\n",
            "Requirement already satisfied: async-timeout<5.0,>=4.0 in /usr/local/lib/python3.10/dist-packages (from aiohttp->openai==0.28) (4.0.3)\n",
            "Requirement already satisfied: python-dotenv in /usr/local/lib/python3.10/dist-packages (1.0.1)\n"
          ]
        }
      ]
    },
    {
      "cell_type": "code",
      "source": [
        "from google.colab import userdata\n",
        "API_KEY=userdata.get('API_KEY')"
      ],
      "metadata": {
        "id": "D2zo4-0p_do2"
      },
      "id": "D2zo4-0p_do2",
      "execution_count": 2,
      "outputs": []
    },
    {
      "cell_type": "code",
      "execution_count": 3,
      "id": "3d1a7aac-599c-4653-b497-49fe9a31a07d",
      "metadata": {
        "height": 115,
        "tags": [],
        "id": "3d1a7aac-599c-4653-b497-49fe9a31a07d"
      },
      "outputs": [],
      "source": [
        "import os\n",
        "import openai\n",
        "\n",
        "from dotenv import load_dotenv, find_dotenv\n",
        "_ = load_dotenv(find_dotenv()) # read local .env file\n",
        "openai.api_key = API_KEY"
      ]
    },
    {
      "cell_type": "code",
      "execution_count": 4,
      "id": "e036b435-e842-40a3-8e1c-1d5d716394c6",
      "metadata": {
        "height": 234,
        "id": "e036b435-e842-40a3-8e1c-1d5d716394c6"
      },
      "outputs": [],
      "source": [
        "import json\n",
        "\n",
        "# Example dummy function hard coded to return the same weather\n",
        "# In production, this could be your backend API or an external API\n",
        "def get_current_weather(location, unit=\"fahrenheit\"):\n",
        "    \"\"\"Get the current weather in a given location\"\"\"\n",
        "    weather_info = {\n",
        "        \"location\": location,\n",
        "        \"temperature\": \"72\",\n",
        "        \"unit\": unit,\n",
        "        \"forecast\": [\"sunny\", \"windy\"],\n",
        "    }\n",
        "    return json.dumps(weather_info)"
      ]
    },
    {
      "cell_type": "code",
      "execution_count": 5,
      "id": "290fae11-d9af-40f8-9b78-3d6a847737b2",
      "metadata": {
        "height": 319,
        "id": "290fae11-d9af-40f8-9b78-3d6a847737b2"
      },
      "outputs": [],
      "source": [
        "# define a function\n",
        "functions = [\n",
        "    {\n",
        "        \"name\": \"get_current_weather\",\n",
        "        \"description\": \"Get the current weather in a given location\",\n",
        "        \"parameters\": {\n",
        "            \"type\": \"object\",\n",
        "            \"properties\": {\n",
        "                \"location\": {\n",
        "                    \"type\": \"string\",\n",
        "                    \"description\": \"The city and state, e.g. San Francisco, CA\",\n",
        "                },\n",
        "                \"unit\": {\"type\": \"string\", \"enum\": [\"celsius\", \"fahrenheit\"]},\n",
        "            },\n",
        "            \"required\": [\"location\"],\n",
        "        },\n",
        "    }\n",
        "]"
      ]
    },
    {
      "cell_type": "code",
      "execution_count": 6,
      "id": "5b5e2abe-7cf0-4b00-8c08-b3df91d78eaa",
      "metadata": {
        "height": 115,
        "id": "5b5e2abe-7cf0-4b00-8c08-b3df91d78eaa"
      },
      "outputs": [],
      "source": [
        "messages = [\n",
        "    {\n",
        "        \"role\": \"user\",\n",
        "        \"content\": \"What's the weather like in Boston?\"\n",
        "    }\n",
        "]"
      ]
    },
    {
      "cell_type": "code",
      "execution_count": 7,
      "id": "654fce05-7ef6-49d7-8d78-f190ecf3f0dd",
      "metadata": {
        "height": 30,
        "id": "654fce05-7ef6-49d7-8d78-f190ecf3f0dd"
      },
      "outputs": [],
      "source": [
        "import openai"
      ]
    },
    {
      "cell_type": "code",
      "execution_count": 8,
      "id": "ffa6385a-db38-40fa-b2b8-6fa226913c46",
      "metadata": {
        "height": 98,
        "id": "ffa6385a-db38-40fa-b2b8-6fa226913c46"
      },
      "outputs": [],
      "source": [
        "response = openai.ChatCompletion.create(\n",
        "    model=\"gpt-3.5-turbo-0613\",\n",
        "    messages=messages,\n",
        "    functions=functions\n",
        ")"
      ]
    },
    {
      "cell_type": "code",
      "execution_count": 9,
      "id": "0e341605-5e3e-44d1-b64e-79c121aeb8d8",
      "metadata": {
        "height": 30,
        "colab": {
          "base_uri": "https://localhost:8080/"
        },
        "id": "0e341605-5e3e-44d1-b64e-79c121aeb8d8",
        "outputId": "3628bca4-4cbd-41f1-cd23-41f3c20e476f"
      },
      "outputs": [
        {
          "output_type": "stream",
          "name": "stdout",
          "text": [
            "{\n",
            "  \"id\": \"chatcmpl-98V0sglbWnqPXBgnaMq8EQvnyp914\",\n",
            "  \"object\": \"chat.completion\",\n",
            "  \"created\": 1711812866,\n",
            "  \"model\": \"gpt-3.5-turbo-0613\",\n",
            "  \"choices\": [\n",
            "    {\n",
            "      \"index\": 0,\n",
            "      \"message\": {\n",
            "        \"role\": \"assistant\",\n",
            "        \"content\": null,\n",
            "        \"function_call\": {\n",
            "          \"name\": \"get_current_weather\",\n",
            "          \"arguments\": \"{\\n\\\"location\\\": \\\"Boston, MA\\\"\\n}\"\n",
            "        }\n",
            "      },\n",
            "      \"logprobs\": null,\n",
            "      \"finish_reason\": \"function_call\"\n",
            "    }\n",
            "  ],\n",
            "  \"usage\": {\n",
            "    \"prompt_tokens\": 82,\n",
            "    \"completion_tokens\": 17,\n",
            "    \"total_tokens\": 99\n",
            "  },\n",
            "  \"system_fingerprint\": null\n",
            "}\n"
          ]
        }
      ],
      "source": [
        "print(response)"
      ]
    },
    {
      "cell_type": "code",
      "execution_count": 10,
      "id": "5748f7ce-9c74-435f-b5dc-d04e627675e3",
      "metadata": {
        "height": 30,
        "id": "5748f7ce-9c74-435f-b5dc-d04e627675e3"
      },
      "outputs": [],
      "source": [
        "response_message = response[\"choices\"][0][\"message\"]"
      ]
    },
    {
      "cell_type": "code",
      "execution_count": 11,
      "id": "a7f733bd-e75b-4a84-9cbe-1a8c695015a3",
      "metadata": {
        "height": 30,
        "colab": {
          "base_uri": "https://localhost:8080/"
        },
        "id": "a7f733bd-e75b-4a84-9cbe-1a8c695015a3",
        "outputId": "6d6b905d-f0d1-4e8e-e6f0-dc0665a65cc5"
      },
      "outputs": [
        {
          "output_type": "execute_result",
          "data": {
            "text/plain": [
              "<OpenAIObject at 0x7bc322842250> JSON: {\n",
              "  \"role\": \"assistant\",\n",
              "  \"content\": null,\n",
              "  \"function_call\": {\n",
              "    \"name\": \"get_current_weather\",\n",
              "    \"arguments\": \"{\\n\\\"location\\\": \\\"Boston, MA\\\"\\n}\"\n",
              "  }\n",
              "}"
            ]
          },
          "metadata": {},
          "execution_count": 11
        }
      ],
      "source": [
        "response_message"
      ]
    },
    {
      "cell_type": "code",
      "execution_count": 12,
      "id": "9d8fa467-d9b3-4d62-b067-f6e8788b2907",
      "metadata": {
        "height": 30,
        "id": "9d8fa467-d9b3-4d62-b067-f6e8788b2907"
      },
      "outputs": [],
      "source": [
        "response_message[\"content\"]"
      ]
    },
    {
      "cell_type": "code",
      "execution_count": 13,
      "id": "d58d13f4-d131-4f70-8b68-dca7be2073e2",
      "metadata": {
        "height": 30,
        "colab": {
          "base_uri": "https://localhost:8080/"
        },
        "id": "d58d13f4-d131-4f70-8b68-dca7be2073e2",
        "outputId": "3f24eaed-dbbf-4858-db24-4179104b9e7a"
      },
      "outputs": [
        {
          "output_type": "execute_result",
          "data": {
            "text/plain": [
              "<OpenAIObject at 0x7bc3228422a0> JSON: {\n",
              "  \"name\": \"get_current_weather\",\n",
              "  \"arguments\": \"{\\n\\\"location\\\": \\\"Boston, MA\\\"\\n}\"\n",
              "}"
            ]
          },
          "metadata": {},
          "execution_count": 13
        }
      ],
      "source": [
        "response_message[\"function_call\"]"
      ]
    },
    {
      "cell_type": "code",
      "execution_count": 14,
      "id": "433a51b6-9c92-4765-85aa-285dccf7748b",
      "metadata": {
        "height": 30,
        "colab": {
          "base_uri": "https://localhost:8080/"
        },
        "id": "433a51b6-9c92-4765-85aa-285dccf7748b",
        "outputId": "c8422bfb-7dfd-4858-e34e-cd94f108c8b6"
      },
      "outputs": [
        {
          "output_type": "execute_result",
          "data": {
            "text/plain": [
              "{'location': 'Boston, MA'}"
            ]
          },
          "metadata": {},
          "execution_count": 14
        }
      ],
      "source": [
        "json.loads(response_message[\"function_call\"][\"arguments\"])"
      ]
    },
    {
      "cell_type": "code",
      "execution_count": 15,
      "id": "675d9372-4388-4f18-b44c-e291668ea46d",
      "metadata": {
        "height": 30,
        "id": "675d9372-4388-4f18-b44c-e291668ea46d"
      },
      "outputs": [],
      "source": [
        "args = json.loads(response_message[\"function_call\"][\"arguments\"])"
      ]
    },
    {
      "cell_type": "code",
      "execution_count": 16,
      "id": "3cbb1aec-454a-4a34-9a6b-351ee3759a3a",
      "metadata": {
        "height": 30,
        "colab": {
          "base_uri": "https://localhost:8080/",
          "height": 35
        },
        "id": "3cbb1aec-454a-4a34-9a6b-351ee3759a3a",
        "outputId": "788f2f22-05f6-44aa-d8fb-3cfdf9649a9e"
      },
      "outputs": [
        {
          "output_type": "execute_result",
          "data": {
            "text/plain": [
              "'{\"location\": {\"location\": \"Boston, MA\"}, \"temperature\": \"72\", \"unit\": \"fahrenheit\", \"forecast\": [\"sunny\", \"windy\"]}'"
            ],
            "application/vnd.google.colaboratory.intrinsic+json": {
              "type": "string"
            }
          },
          "metadata": {},
          "execution_count": 16
        }
      ],
      "source": [
        "get_current_weather(args)"
      ]
    },
    {
      "cell_type": "code",
      "execution_count": 17,
      "id": "8c2cbe66-784a-40ff-a268-7bd0f984d5b8",
      "metadata": {
        "height": 115,
        "id": "8c2cbe66-784a-40ff-a268-7bd0f984d5b8"
      },
      "outputs": [],
      "source": [
        "messages = [\n",
        "    {\n",
        "        \"role\": \"user\",\n",
        "        \"content\": \"hi!\",\n",
        "    }\n",
        "]"
      ]
    },
    {
      "cell_type": "code",
      "execution_count": 18,
      "id": "8300232d-4f02-478b-bba2-d47173422866",
      "metadata": {
        "height": 98,
        "id": "8300232d-4f02-478b-bba2-d47173422866"
      },
      "outputs": [],
      "source": [
        "response = openai.ChatCompletion.create(\n",
        "    model=\"gpt-3.5-turbo-0613\",\n",
        "    messages=messages,\n",
        "    functions=functions,\n",
        ")"
      ]
    },
    {
      "cell_type": "code",
      "execution_count": 19,
      "id": "3e35564e-8f66-4b06-b14a-03e24a202a47",
      "metadata": {
        "height": 30,
        "colab": {
          "base_uri": "https://localhost:8080/"
        },
        "id": "3e35564e-8f66-4b06-b14a-03e24a202a47",
        "outputId": "50ce78ab-42d8-4488-a84c-f1640e0f54fd"
      },
      "outputs": [
        {
          "output_type": "stream",
          "name": "stdout",
          "text": [
            "{\n",
            "  \"id\": \"chatcmpl-98V0stS0iTEIXy5SBtSPDsVLnX1cg\",\n",
            "  \"object\": \"chat.completion\",\n",
            "  \"created\": 1711812866,\n",
            "  \"model\": \"gpt-3.5-turbo-0613\",\n",
            "  \"choices\": [\n",
            "    {\n",
            "      \"index\": 0,\n",
            "      \"message\": {\n",
            "        \"role\": \"assistant\",\n",
            "        \"content\": \"Hello! How can I assist you today?\"\n",
            "      },\n",
            "      \"logprobs\": null,\n",
            "      \"finish_reason\": \"stop\"\n",
            "    }\n",
            "  ],\n",
            "  \"usage\": {\n",
            "    \"prompt_tokens\": 76,\n",
            "    \"completion_tokens\": 10,\n",
            "    \"total_tokens\": 86\n",
            "  },\n",
            "  \"system_fingerprint\": null\n",
            "}\n"
          ]
        }
      ],
      "source": [
        "print(response)"
      ]
    },
    {
      "cell_type": "code",
      "execution_count": 20,
      "id": "e2af9f72-1cb9-4a97-b030-22562ecab99d",
      "metadata": {
        "height": 234,
        "colab": {
          "base_uri": "https://localhost:8080/"
        },
        "id": "e2af9f72-1cb9-4a97-b030-22562ecab99d",
        "outputId": "e00f2c74-ef9f-4fff-b8e5-5b9aa5d6ec1c"
      },
      "outputs": [
        {
          "output_type": "stream",
          "name": "stdout",
          "text": [
            "{\n",
            "  \"id\": \"chatcmpl-98V0tb5RMiyRG3R3RsR8KjpgA3Upr\",\n",
            "  \"object\": \"chat.completion\",\n",
            "  \"created\": 1711812867,\n",
            "  \"model\": \"gpt-3.5-turbo-0613\",\n",
            "  \"choices\": [\n",
            "    {\n",
            "      \"index\": 0,\n",
            "      \"message\": {\n",
            "        \"role\": \"assistant\",\n",
            "        \"content\": \"Hello! How can I assist you today?\"\n",
            "      },\n",
            "      \"logprobs\": null,\n",
            "      \"finish_reason\": \"stop\"\n",
            "    }\n",
            "  ],\n",
            "  \"usage\": {\n",
            "    \"prompt_tokens\": 76,\n",
            "    \"completion_tokens\": 10,\n",
            "    \"total_tokens\": 86\n",
            "  },\n",
            "  \"system_fingerprint\": null\n",
            "}\n"
          ]
        }
      ],
      "source": [
        "messages = [\n",
        "    {\n",
        "        \"role\": \"user\",\n",
        "        \"content\": \"hi!\",\n",
        "    }\n",
        "]\n",
        "response = openai.ChatCompletion.create(\n",
        "    model=\"gpt-3.5-turbo-0613\",\n",
        "    messages=messages,\n",
        "    functions=functions,\n",
        "    function_call=\"auto\",\n",
        ")\n",
        "print(response)"
      ]
    },
    {
      "cell_type": "code",
      "execution_count": 21,
      "id": "6ba8cafc-f785-4595-9e3c-48b06424ee8b",
      "metadata": {
        "height": 234,
        "colab": {
          "base_uri": "https://localhost:8080/"
        },
        "id": "6ba8cafc-f785-4595-9e3c-48b06424ee8b",
        "outputId": "d8adbd21-6c69-432e-f973-2becd6c3a22f"
      },
      "outputs": [
        {
          "output_type": "stream",
          "name": "stdout",
          "text": [
            "{\n",
            "  \"id\": \"chatcmpl-98V0uimqa8ttknhhdEJgbPCXRin9X\",\n",
            "  \"object\": \"chat.completion\",\n",
            "  \"created\": 1711812868,\n",
            "  \"model\": \"gpt-3.5-turbo-0613\",\n",
            "  \"choices\": [\n",
            "    {\n",
            "      \"index\": 0,\n",
            "      \"message\": {\n",
            "        \"role\": \"assistant\",\n",
            "        \"content\": \"Hello! How can I assist you today?\"\n",
            "      },\n",
            "      \"logprobs\": null,\n",
            "      \"finish_reason\": \"stop\"\n",
            "    }\n",
            "  ],\n",
            "  \"usage\": {\n",
            "    \"prompt_tokens\": 77,\n",
            "    \"completion_tokens\": 9,\n",
            "    \"total_tokens\": 86\n",
            "  },\n",
            "  \"system_fingerprint\": null\n",
            "}\n"
          ]
        }
      ],
      "source": [
        "messages = [\n",
        "    {\n",
        "        \"role\": \"user\",\n",
        "        \"content\": \"hi!\",\n",
        "    }\n",
        "]\n",
        "response = openai.ChatCompletion.create(\n",
        "    model=\"gpt-3.5-turbo-0613\",\n",
        "    messages=messages,\n",
        "    functions=functions,\n",
        "    function_call=\"none\",\n",
        ")\n",
        "print(response)"
      ]
    },
    {
      "cell_type": "code",
      "execution_count": 22,
      "id": "ca7cc5a7-1572-4171-9016-9ec2871d389b",
      "metadata": {
        "height": 234,
        "colab": {
          "base_uri": "https://localhost:8080/"
        },
        "id": "ca7cc5a7-1572-4171-9016-9ec2871d389b",
        "outputId": "22cbdb29-10c8-40f3-d528-616d6e96163a"
      },
      "outputs": [
        {
          "output_type": "stream",
          "name": "stdout",
          "text": [
            "{\n",
            "  \"id\": \"chatcmpl-98V0w7QzuMfAbMeqG0SYycSAa5eq2\",\n",
            "  \"object\": \"chat.completion\",\n",
            "  \"created\": 1711812870,\n",
            "  \"model\": \"gpt-3.5-turbo-0613\",\n",
            "  \"choices\": [\n",
            "    {\n",
            "      \"index\": 0,\n",
            "      \"message\": {\n",
            "        \"role\": \"assistant\",\n",
            "        \"content\": \"Just a moment. I will get the current weather in Boston for you.\"\n",
            "      },\n",
            "      \"logprobs\": null,\n",
            "      \"finish_reason\": \"stop\"\n",
            "    }\n",
            "  ],\n",
            "  \"usage\": {\n",
            "    \"prompt_tokens\": 82,\n",
            "    \"completion_tokens\": 15,\n",
            "    \"total_tokens\": 97\n",
            "  },\n",
            "  \"system_fingerprint\": null\n",
            "}\n"
          ]
        }
      ],
      "source": [
        "messages = [\n",
        "    {\n",
        "        \"role\": \"user\",\n",
        "        \"content\": \"What's the weather in Boston?\",\n",
        "    }\n",
        "]\n",
        "response = openai.ChatCompletion.create(\n",
        "    model=\"gpt-3.5-turbo-0613\",\n",
        "    messages=messages,\n",
        "    functions=functions,\n",
        "    function_call=\"none\",\n",
        ")\n",
        "print(response)"
      ]
    },
    {
      "cell_type": "code",
      "execution_count": 23,
      "id": "282a92ba-5677-4c72-b556-d29e6a4152a0",
      "metadata": {
        "height": 234,
        "colab": {
          "base_uri": "https://localhost:8080/"
        },
        "id": "282a92ba-5677-4c72-b556-d29e6a4152a0",
        "outputId": "f64ba888-37ff-4bb5-b6b5-41f6e1ca3142"
      },
      "outputs": [
        {
          "output_type": "stream",
          "name": "stdout",
          "text": [
            "{\n",
            "  \"id\": \"chatcmpl-98V0wUzAV0IUbhqLBVilIvKnvPCOK\",\n",
            "  \"object\": \"chat.completion\",\n",
            "  \"created\": 1711812870,\n",
            "  \"model\": \"gpt-3.5-turbo-0613\",\n",
            "  \"choices\": [\n",
            "    {\n",
            "      \"index\": 0,\n",
            "      \"message\": {\n",
            "        \"role\": \"assistant\",\n",
            "        \"content\": null,\n",
            "        \"function_call\": {\n",
            "          \"name\": \"get_current_weather\",\n",
            "          \"arguments\": \"{\\n  \\\"location\\\": \\\"San Francisco, CA\\\"\\n}\"\n",
            "        }\n",
            "      },\n",
            "      \"logprobs\": null,\n",
            "      \"finish_reason\": \"stop\"\n",
            "    }\n",
            "  ],\n",
            "  \"usage\": {\n",
            "    \"prompt_tokens\": 83,\n",
            "    \"completion_tokens\": 12,\n",
            "    \"total_tokens\": 95\n",
            "  },\n",
            "  \"system_fingerprint\": null\n",
            "}\n"
          ]
        }
      ],
      "source": [
        "messages = [\n",
        "    {\n",
        "        \"role\": \"user\",\n",
        "        \"content\": \"hi!\",\n",
        "    }\n",
        "]\n",
        "response = openai.ChatCompletion.create(\n",
        "    model=\"gpt-3.5-turbo-0613\",\n",
        "    messages=messages,\n",
        "    functions=functions,\n",
        "    function_call={\"name\": \"get_current_weather\"},\n",
        ")\n",
        "print(response)"
      ]
    },
    {
      "cell_type": "code",
      "execution_count": 24,
      "id": "3c5229a4-2700-48b4-b2b9-3b1e1535f903",
      "metadata": {
        "height": 234,
        "colab": {
          "base_uri": "https://localhost:8080/"
        },
        "id": "3c5229a4-2700-48b4-b2b9-3b1e1535f903",
        "outputId": "26c52926-065b-4097-a0a8-40d5f823511b"
      },
      "outputs": [
        {
          "output_type": "stream",
          "name": "stdout",
          "text": [
            "{\n",
            "  \"id\": \"chatcmpl-98V0xexRKM7apNmeOk1Bv2QI8YHPJ\",\n",
            "  \"object\": \"chat.completion\",\n",
            "  \"created\": 1711812871,\n",
            "  \"model\": \"gpt-3.5-turbo-0613\",\n",
            "  \"choices\": [\n",
            "    {\n",
            "      \"index\": 0,\n",
            "      \"message\": {\n",
            "        \"role\": \"assistant\",\n",
            "        \"content\": null,\n",
            "        \"function_call\": {\n",
            "          \"name\": \"get_current_weather\",\n",
            "          \"arguments\": \"{\\n  \\\"location\\\": \\\"Boston, MA\\\"\\n}\"\n",
            "        }\n",
            "      },\n",
            "      \"logprobs\": null,\n",
            "      \"finish_reason\": \"stop\"\n",
            "    }\n",
            "  ],\n",
            "  \"usage\": {\n",
            "    \"prompt_tokens\": 89,\n",
            "    \"completion_tokens\": 11,\n",
            "    \"total_tokens\": 100\n",
            "  },\n",
            "  \"system_fingerprint\": null\n",
            "}\n"
          ]
        }
      ],
      "source": [
        "messages = [\n",
        "    {\n",
        "        \"role\": \"user\",\n",
        "        \"content\": \"What's the weather like in Boston!\",\n",
        "    }\n",
        "]\n",
        "response = openai.ChatCompletion.create(\n",
        "    model=\"gpt-3.5-turbo-0613\",\n",
        "    messages=messages,\n",
        "    functions=functions,\n",
        "    function_call={\"name\": \"get_current_weather\"},\n",
        ")\n",
        "print(response)"
      ]
    },
    {
      "cell_type": "code",
      "execution_count": 25,
      "id": "e2f3a9d7-9f30-4524-a952-5dd87c6d2eef",
      "metadata": {
        "height": 30,
        "id": "e2f3a9d7-9f30-4524-a952-5dd87c6d2eef"
      },
      "outputs": [],
      "source": [
        "messages.append(response[\"choices\"][0][\"message\"])"
      ]
    },
    {
      "cell_type": "code",
      "execution_count": 26,
      "id": "c817376f-3a7f-4448-acdd-1639c70d42e4",
      "metadata": {
        "height": 47,
        "id": "c817376f-3a7f-4448-acdd-1639c70d42e4"
      },
      "outputs": [],
      "source": [
        "args = json.loads(response[\"choices\"][0][\"message\"]['function_call']['arguments'])\n",
        "observation = get_current_weather(args)"
      ]
    },
    {
      "cell_type": "code",
      "execution_count": 27,
      "id": "63454808-10a2-4301-9977-89aa79018152",
      "metadata": {
        "height": 132,
        "id": "63454808-10a2-4301-9977-89aa79018152"
      },
      "outputs": [],
      "source": [
        "messages.append(\n",
        "        {\n",
        "            \"role\": \"function\",\n",
        "            \"name\": \"get_current_weather\",\n",
        "            \"content\": observation,\n",
        "        }\n",
        ")"
      ]
    },
    {
      "cell_type": "code",
      "execution_count": 28,
      "id": "f323fb69-c907-4f19-a2d9-80d828b4a5c2",
      "metadata": {
        "height": 98,
        "colab": {
          "base_uri": "https://localhost:8080/"
        },
        "id": "f323fb69-c907-4f19-a2d9-80d828b4a5c2",
        "outputId": "f63e5327-67fe-443a-fe5a-a733287c1ee4"
      },
      "outputs": [
        {
          "output_type": "stream",
          "name": "stdout",
          "text": [
            "{\n",
            "  \"id\": \"chatcmpl-98V0yHT5yULw79MQ1ko93aFFnfsfW\",\n",
            "  \"object\": \"chat.completion\",\n",
            "  \"created\": 1711812872,\n",
            "  \"model\": \"gpt-3.5-turbo-0613\",\n",
            "  \"choices\": [\n",
            "    {\n",
            "      \"index\": 0,\n",
            "      \"message\": {\n",
            "        \"role\": \"assistant\",\n",
            "        \"content\": \"The current weather in Boston, MA is sunny and windy with a temperature of 72\\u00b0F.\"\n",
            "      },\n",
            "      \"logprobs\": null,\n",
            "      \"finish_reason\": \"stop\"\n",
            "    }\n",
            "  ],\n",
            "  \"usage\": {\n",
            "    \"prompt_tokens\": 77,\n",
            "    \"completion_tokens\": 19,\n",
            "    \"total_tokens\": 96\n",
            "  },\n",
            "  \"system_fingerprint\": null\n",
            "}\n"
          ]
        }
      ],
      "source": [
        "response = openai.ChatCompletion.create(\n",
        "    model=\"gpt-3.5-turbo-0613\",\n",
        "    messages=messages,\n",
        ")\n",
        "print(response)"
      ]
    }
  ],
  "metadata": {
    "kernelspec": {
      "display_name": "Python 3 (ipykernel)",
      "language": "python",
      "name": "python3"
    },
    "language_info": {
      "codemirror_mode": {
        "name": "ipython",
        "version": 3
      },
      "file_extension": ".py",
      "mimetype": "text/x-python",
      "name": "python",
      "nbconvert_exporter": "python",
      "pygments_lexer": "ipython3",
      "version": "3.9.18"
    },
    "colab": {
      "provenance": []
    }
  },
  "nbformat": 4,
  "nbformat_minor": 5
}